{
 "cells": [
  {
   "cell_type": "markdown",
   "metadata": {},
   "source": [
    "# Modelización"
   ]
  },
  {
   "cell_type": "markdown",
   "metadata": {},
   "source": [
    "**Resumen** Entrada de variables en el modelo: \n",
    "\n",
    "Leyennda:\n",
    "* **Candidata**: variable a incluir en los modelos.\n",
    "* **Descartada**: variable que NO vamos a incluir en los modelos.\n",
    "* **No candidata**: variable que vamos a valorar si meterla en los modelos tras la evaluación inicial con las variables candidatas. Si consideramos que pueden mejorar el modelo, las incluiremos.\n",
    "\n",
    "\n",
    "**Entrada de variables en el modelo:**\n",
    "\n",
    "* Age - **Candidata**           Correlación 0.34\n",
    "* Tenure - **Descartada**       Correlación -0.01\n",
    "* NumOfProducts - **Candidata**       Correlación -0.20\n",
    "* IsActiveMember - **Candidata**       Correlación -0.21\n",
    "* Sex - **Candidata**       Correlación -0.14\n",
    "* CreditScore - **Descartada**      Correlación -0.03\n",
    "* Balance - **Candidata**       Correlación 0.13\n",
    "* Countries - **Candidata** Por lo explicado en Tabla7 y Grafico1\n",
    "* EstimatedSalary - **Descartada**      Correlación 0.02\n",
    "* HasCrCard - **Descartada**        Correlación -0.02\n",
    "\n",
    "* Tenure_Age - **Descartada**       Correlación -0.13\n",
    "* Age_Tenure_product - **Descartada**       Correlación 0.11\n",
    "* Mem__no__Products - **No Candidata**       Correlación -0.23\n",
    "* Cred_Bal_Sal - **No Candidata**       Correlación 0.10\n",
    "* Bal_sal - **No Candidata**       Correlación 0.11"
   ]
  },
  {
   "cell_type": "markdown",
   "metadata": {},
   "source": [
    "Modelos a probar:\n",
    "\n",
    "* Regresión logística\n",
    "\n",
    "* Random forest\n",
    "\n",
    "* Naive Bayes\n",
    "\n",
    " "
   ]
  },
  {
   "cell_type": "markdown",
   "metadata": {},
   "source": [
    "Carga de librerías y de datos - no incluir proyecto final"
   ]
  },
  {
   "cell_type": "code",
   "execution_count": 1,
   "metadata": {},
   "outputs": [],
   "source": [
    "import requests\n",
    "import pandas as pd\n",
    "from io import StringIO\n",
    "import time \n",
    "import numpy as np\n",
    "import matplotlib.pyplot as plt \n",
    "import seaborn as sns\n",
    "from sklearn.model_selection import train_test_split, GridSearchCV, RandomizedSearchCV\n",
    "from sklearn.preprocessing import StandardScaler, MinMaxScaler\n",
    "from sklearn.feature_selection import f_classif, SelectKBest, chi2\n",
    "\n",
    "from sklearn.linear_model import LinearRegression, LogisticRegression, Lasso, Ridge\n",
    "from sklearn.metrics import accuracy_score, confusion_matrix, mean_squared_error, r2_score"
   ]
  },
  {
   "cell_type": "code",
   "execution_count": 2,
   "metadata": {},
   "outputs": [],
   "source": [
    "import warnings\n",
    "\n",
    "warnings.filterwarnings(\"ignore\")"
   ]
  },
  {
   "cell_type": "code",
   "execution_count": 3,
   "metadata": {},
   "outputs": [
    {
     "data": {
      "text/html": [
       "<div>\n",
       "<style scoped>\n",
       "    .dataframe tbody tr th:only-of-type {\n",
       "        vertical-align: middle;\n",
       "    }\n",
       "\n",
       "    .dataframe tbody tr th {\n",
       "        vertical-align: top;\n",
       "    }\n",
       "\n",
       "    .dataframe thead th {\n",
       "        text-align: right;\n",
       "    }\n",
       "</style>\n",
       "<table border=\"1\" class=\"dataframe\">\n",
       "  <thead>\n",
       "    <tr style=\"text-align: right;\">\n",
       "      <th></th>\n",
       "      <th>Unnamed: 0</th>\n",
       "      <th>CreditScore</th>\n",
       "      <th>Age</th>\n",
       "      <th>Tenure</th>\n",
       "      <th>Balance</th>\n",
       "      <th>NumOfProducts</th>\n",
       "      <th>HasCrCard</th>\n",
       "      <th>IsActiveMember</th>\n",
       "      <th>EstimatedSalary</th>\n",
       "      <th>Exited</th>\n",
       "      <th>Mem__no__Products</th>\n",
       "      <th>Age_Tenure_product</th>\n",
       "      <th>Sex</th>\n",
       "      <th>Countries</th>\n",
       "      <th>Tenure_Age_calc</th>\n",
       "      <th>Cred_Bal_Sal_out</th>\n",
       "      <th>Bal_sal_out</th>\n",
       "    </tr>\n",
       "  </thead>\n",
       "  <tbody>\n",
       "    <tr>\n",
       "      <th>0</th>\n",
       "      <td>0</td>\n",
       "      <td>668.0</td>\n",
       "      <td>33.0</td>\n",
       "      <td>3.0</td>\n",
       "      <td>0.00</td>\n",
       "      <td>2.0</td>\n",
       "      <td>1</td>\n",
       "      <td>0</td>\n",
       "      <td>181449.97</td>\n",
       "      <td>0</td>\n",
       "      <td>0.0</td>\n",
       "      <td>99.0</td>\n",
       "      <td>1</td>\n",
       "      <td>1</td>\n",
       "      <td>0.090909</td>\n",
       "      <td>0.000000</td>\n",
       "      <td>0.000000</td>\n",
       "    </tr>\n",
       "    <tr>\n",
       "      <th>1</th>\n",
       "      <td>1</td>\n",
       "      <td>627.0</td>\n",
       "      <td>33.0</td>\n",
       "      <td>1.0</td>\n",
       "      <td>0.00</td>\n",
       "      <td>2.0</td>\n",
       "      <td>1</td>\n",
       "      <td>1</td>\n",
       "      <td>49503.50</td>\n",
       "      <td>0</td>\n",
       "      <td>2.0</td>\n",
       "      <td>33.0</td>\n",
       "      <td>1</td>\n",
       "      <td>1</td>\n",
       "      <td>0.030303</td>\n",
       "      <td>0.000000</td>\n",
       "      <td>0.000000</td>\n",
       "    </tr>\n",
       "    <tr>\n",
       "      <th>2</th>\n",
       "      <td>2</td>\n",
       "      <td>678.0</td>\n",
       "      <td>40.0</td>\n",
       "      <td>10.0</td>\n",
       "      <td>0.00</td>\n",
       "      <td>2.0</td>\n",
       "      <td>1</td>\n",
       "      <td>0</td>\n",
       "      <td>184866.69</td>\n",
       "      <td>0</td>\n",
       "      <td>0.0</td>\n",
       "      <td>400.0</td>\n",
       "      <td>1</td>\n",
       "      <td>1</td>\n",
       "      <td>0.250000</td>\n",
       "      <td>0.000000</td>\n",
       "      <td>0.000000</td>\n",
       "    </tr>\n",
       "    <tr>\n",
       "      <th>3</th>\n",
       "      <td>3</td>\n",
       "      <td>581.0</td>\n",
       "      <td>34.0</td>\n",
       "      <td>2.0</td>\n",
       "      <td>148882.54</td>\n",
       "      <td>1.0</td>\n",
       "      <td>1</td>\n",
       "      <td>1</td>\n",
       "      <td>84560.88</td>\n",
       "      <td>0</td>\n",
       "      <td>1.0</td>\n",
       "      <td>68.0</td>\n",
       "      <td>1</td>\n",
       "      <td>1</td>\n",
       "      <td>0.058824</td>\n",
       "      <td>1022.940581</td>\n",
       "      <td>1.760655</td>\n",
       "    </tr>\n",
       "    <tr>\n",
       "      <th>4</th>\n",
       "      <td>4</td>\n",
       "      <td>716.0</td>\n",
       "      <td>33.0</td>\n",
       "      <td>5.0</td>\n",
       "      <td>0.00</td>\n",
       "      <td>2.0</td>\n",
       "      <td>1</td>\n",
       "      <td>1</td>\n",
       "      <td>15068.83</td>\n",
       "      <td>0</td>\n",
       "      <td>2.0</td>\n",
       "      <td>165.0</td>\n",
       "      <td>1</td>\n",
       "      <td>3</td>\n",
       "      <td>0.151515</td>\n",
       "      <td>0.000000</td>\n",
       "      <td>0.000000</td>\n",
       "    </tr>\n",
       "  </tbody>\n",
       "</table>\n",
       "</div>"
      ],
      "text/plain": [
       "   Unnamed: 0  CreditScore   Age  Tenure    Balance  NumOfProducts  HasCrCard  \\\n",
       "0           0        668.0  33.0     3.0       0.00            2.0          1   \n",
       "1           1        627.0  33.0     1.0       0.00            2.0          1   \n",
       "2           2        678.0  40.0    10.0       0.00            2.0          1   \n",
       "3           3        581.0  34.0     2.0  148882.54            1.0          1   \n",
       "4           4        716.0  33.0     5.0       0.00            2.0          1   \n",
       "\n",
       "   IsActiveMember  EstimatedSalary  Exited  Mem__no__Products  \\\n",
       "0               0        181449.97       0                0.0   \n",
       "1               1         49503.50       0                2.0   \n",
       "2               0        184866.69       0                0.0   \n",
       "3               1         84560.88       0                1.0   \n",
       "4               1         15068.83       0                2.0   \n",
       "\n",
       "   Age_Tenure_product  Sex  Countries  Tenure_Age_calc  Cred_Bal_Sal_out  \\\n",
       "0                99.0    1          1         0.090909          0.000000   \n",
       "1                33.0    1          1         0.030303          0.000000   \n",
       "2               400.0    1          1         0.250000          0.000000   \n",
       "3                68.0    1          1         0.058824       1022.940581   \n",
       "4               165.0    1          3         0.151515          0.000000   \n",
       "\n",
       "   Bal_sal_out  \n",
       "0     0.000000  \n",
       "1     0.000000  \n",
       "2     0.000000  \n",
       "3     1.760655  \n",
       "4     0.000000  "
      ]
     },
     "execution_count": 3,
     "metadata": {},
     "output_type": "execute_result"
    }
   ],
   "source": [
    "url=\"/workspaces/Isa-Project/data/data_clean.csv\"\n",
    "data_clean=pd.read_csv(url)\n",
    "\n",
    "#observamos que se hayan cargado correctamente los datos con las primeras 5 filas del dataset\n",
    "data_clean.head()"
   ]
  },
  {
   "cell_type": "markdown",
   "metadata": {},
   "source": [
    "Vamos a crear un data set con las variables a incluir iniciales: Age, NumOfProducts, IsActiveMember, Sex, Balance, Countries. \n",
    "\n",
    "[Posibles candidatas: Mem__no__Products, Cred_Bal_Sal, Bal_sal]\n"
   ]
  },
  {
   "cell_type": "code",
   "execution_count": 4,
   "metadata": {},
   "outputs": [],
   "source": [
    "vars_mod1=[\"Age\", \"NumOfProducts\", \"IsActiveMember\", \"Sex\", \"Balance\", \"Countries\"]\n",
    "vars_mod_aux= [\"Mem__no__Products\", \"Cred_Bal_Sal\", \"Bal_sal\"]"
   ]
  },
  {
   "cell_type": "markdown",
   "metadata": {},
   "source": [
    "Separamos la muestra test y de entrenamiento: X lleva las variables iniciales Candidatas"
   ]
  },
  {
   "cell_type": "code",
   "execution_count": 5,
   "metadata": {},
   "outputs": [],
   "source": [
    "y=data_clean[\"Exited\"]\n",
    "X=data_clean[vars_mod1]\n",
    "\n",
    "X_train,X_test,y_train,y_test=train_test_split(X,y,test_size=0.2,random_state=42)"
   ]
  },
  {
   "cell_type": "markdown",
   "metadata": {},
   "source": [
    "Normalizamos los datos"
   ]
  },
  {
   "cell_type": "code",
   "execution_count": 6,
   "metadata": {},
   "outputs": [],
   "source": [
    " \n",
    "scaler = StandardScaler()\n",
    "scaler.fit(X_train)\n",
    "\n",
    "cols=X.columns\n",
    "X_train_norm = scaler.transform(X_train)\n",
    "X_train_norm = pd.DataFrame(X_train_norm, index = X_train.index, columns = cols)\n",
    "\n",
    "X_test_norm = scaler.transform(X_test)\n",
    "X_test_norm = pd.DataFrame(X_test_norm, index = X_test.index, columns = cols)\n",
    "\n"
   ]
  },
  {
   "cell_type": "markdown",
   "metadata": {},
   "source": [
    "Modelo de regresión logistica y "
   ]
  },
  {
   "cell_type": "code",
   "execution_count": 7,
   "metadata": {},
   "outputs": [],
   "source": [
    "#Regresión\n",
    "model = LogisticRegression()\n",
    "model.fit(X_train_norm, y_train)\n",
    "y_pred = model.predict(X_test_norm)\n",
    "\n",
    "#Lasso\n",
    "lasso_model = Lasso(alpha = 0.1, max_iter = 300)\n",
    "lasso_model.fit(X_train_norm, y_train)\n",
    "y_pred_lasso = lasso_model.predict(X_test_norm)\n",
    "\n",
    "#Ridge\n",
    "ridge_model = Ridge(alpha = 0.1, max_iter = 300)\n",
    "ridge_model.fit(X_train_norm, y_train)\n",
    "y_pred_ridge = ridge_model.predict(X_test_norm)"
   ]
  },
  {
   "cell_type": "code",
   "execution_count": 8,
   "metadata": {},
   "outputs": [],
   "source": [
    "def descriptive (arr):\n",
    "    return print(pd.DataFrame({\n",
    "        'mean':np.mean(arr),\n",
    "        'median':np.quantile(arr,0.5),\n",
    "        '75%':np.quantile(arr,0.75),\n",
    "        'max':np.max(arr),\n",
    "        'min':np.min(arr)\n",
    "        }\n",
    "\n",
    "        ,index=[0]))\n",
    "    "
   ]
  },
  {
   "cell_type": "code",
   "execution_count": 11,
   "metadata": {},
   "outputs": [
    {
     "name": "stdout",
     "output_type": "stream",
     "text": [
      "       mean    median       75%       max       min\n",
      "0  0.210741  0.196513  0.331463  1.089923 -0.283833\n",
      "       mean    median       75%       max       min\n",
      "0  0.211186  0.206486  0.227165  0.433959  0.127904\n",
      "       mean  median  75%  max  min\n",
      "0  0.210418     0.0  0.0    1    0\n",
      "       mean  median  75%  max  min\n",
      "0  0.103552     0.0  0.0    1    0\n",
      "       mean  median  75%  max  min\n",
      "0  0.211178     0.0  0.0    1    0\n"
     ]
    },
    {
     "data": {
      "text/plain": [
       "(None, None, None, None, None)"
      ]
     },
     "execution_count": 11,
     "metadata": {},
     "output_type": "execute_result"
    }
   ],
   "source": [
    "descriptive(y_pred_ridge),descriptive(y_pred_lasso),descriptive(y_test),descriptive(y_pred),descriptive(y)"
   ]
  },
  {
   "cell_type": "code",
   "execution_count": 32,
   "metadata": {},
   "outputs": [
    {
     "name": "stdout",
     "output_type": "stream",
     "text": [
      "0.8254707546361116\n",
      "[[26449  1184]\n",
      " [ 4924  2440]]\n",
      "[[27633     0]\n",
      " [ 7364     0]]\n",
      "[[26860   773]\n",
      " [ 5599  1765]]\n"
     ]
    },
    {
     "data": {
      "image/png": "[encoded data removed]",
      "text/plain": [
       "<Figure size 1200x600 with 6 Axes>"
      ]
     },
     "metadata": {},
     "output_type": "display_data"
    }
   ],
   "source": [
    "y_pred_ridge_round=y_pred_ridge.round(0)\n",
    "y_pred_lasso_round=y_pred_lasso.round(0)\n",
    "# Calcular el error cuadrático medio\n",
    "ridge_mse = mean_squared_error(y_test, y_pred_ridge)\n",
    "lasso_mse = mean_squared_error(y_test, y_pred_lasso)\n",
    "MSE= mean_squared_error(y_test, y_pred)\n",
    "\n",
    "ridge_r2=r2_score(y_test, y_pred_ridge)\n",
    "lasso_r2=r2_score(y_test, y_pred_lasso)\n",
    "R2=r2_score(y_test, y_pred)\n",
    "\n",
    "\n",
    "ridge_acc=accuracy_score(y_test, y_pred_ridge_round)\n",
    "lasso_acc=accuracy_score(y_test, y_pred_lasso_round)\n",
    "model_acc=accuracy_score(y_test, y_pred)\n",
    "\n",
    "ridge_conf=cm = confusion_matrix(y_test, y_pred_ridge_round)\n",
    "lasso_conf=confusion_matrix(y_test, y_pred_lasso_round)\n",
    "model_conf=confusion_matrix(y_test, y_pred)\n",
    "\n",
    "valoresMSE=[ridge_mse,lasso_mse,MSE]\n",
    "valoresR2=[ridge_r2,lasso_r2,R2]\n",
    "valoresAcc=[ridge_acc,lasso_acc,model_acc]\n",
    "\n",
    "nombs=['Ridge','Lasso','Model']\n",
    "\n",
    "# Graficamos los datos resultados\n",
    "print(model_acc)\n",
    "print(model_conf)\n",
    "print(lasso_conf)\n",
    "print(ridge_conf)\n",
    "\n",
    "fig, axis= plt.subplots(2,3,figsize=(12,6), gridspec_kw={'height_ratios': [2, 1]})\n",
    "\n",
    "#FILA 0\n",
    "## 1º GRÁFICO\n",
    "\n",
    "ax1=sns.barplot(x=nombs,y=valoresMSE,hue=nombs,ax=axis[0,0],legend=nombs,palette=\"Set2\")\n",
    "lim0=min(valoresMSE)-(max(valoresMSE)-min(valoresMSE))\n",
    "lim1=max(valoresMSE)+(max(valoresMSE)-min(valoresMSE))+0.05\n",
    "for p in ax1.patches:\n",
    "    ax1.annotate(f'{round(p.get_height(),4)}', (p.get_x() + p.get_width() / 2., p.get_height()),\n",
    "                ha='center', va='center', xytext=(0, 10), textcoords='offset points')\n",
    "\n",
    "axis[0,0].set_ylim(lim0,lim1)\n",
    "axis[0,0].set_title(\"MSE\")\n",
    "\n",
    "## 2º GRÁFICO\n",
    "ax2=sns.barplot(x=nombs,y=valoresR2,hue=nombs,ax=axis[0,1],legend=nombs,palette=\"Set2\")\n",
    "lim0=min(valoresR2)-(max(valoresR2)-min(valoresR2))+0.2\n",
    "lim1=max(valoresR2)+(max(valoresR2)-min(valoresR2))\n",
    "for p in ax2.patches:\n",
    "    ax2.annotate(f'{round(p.get_height(),4)}', (p.get_x() + p.get_width() / 2., p.get_height()),\n",
    "                ha='center', va='center', xytext=(0, 10), textcoords='offset points')\n",
    "\n",
    "\n",
    "axis[0,1].set_ylim(lim0,lim1)\n",
    "axis[0,1].set_title(\"R2\")\n",
    "\n",
    "## 3º GRÁFICO\n",
    "ax2=sns.barplot(x=nombs,y=valoresAcc,hue=nombs,ax=axis[0,2],legend=nombs,palette=\"Set2\")\n",
    "lim0=min(valoresAcc)-(max(valoresAcc)-min(valoresAcc))\n",
    "lim1=max(valoresAcc)+(max(valoresAcc)-min(valoresAcc))+0.05\n",
    "for p in ax2.patches:\n",
    "    ax2.annotate(f'{round(p.get_height(),4)}', (p.get_x() + p.get_width() / 2., p.get_height()),\n",
    "                ha='center', va='center', xytext=(0, 10), textcoords='offset points')\n",
    "\n",
    "\n",
    "axis[0,2].set_ylim(lim0,lim1)\n",
    "axis[0,2].set_title(\"Accuracy\")\n",
    "\n",
    "#FILA 1\n",
    "## 1º GRÁFICO\n",
    "\n",
    "sns.heatmap(ridge_conf, annot=True, fmt='g', cmap='coolwarm', cbar=False, ax=axis[1,0],\n",
    "            xticklabels=['0', '1'],\n",
    "            yticklabels=['0', '1'])\n",
    "\n",
    "axis[1,0].set_xlabel('Predicción')\n",
    "axis[1,0].set_ylabel('Valor Real')\n",
    "axis[1,0].set_title('Ridge')\n",
    "\n",
    "sns.heatmap(lasso_conf, annot=True, fmt='g', cmap='coolwarm', cbar=False, ax=axis[1,1],\n",
    "            xticklabels=['0', '1'],\n",
    "            yticklabels=['0', '1'])\n",
    "\n",
    "axis[1,1].set_xlabel('Predicción')\n",
    "axis[1,1].set_ylabel('Valor Real')\n",
    "axis[1,1].set_title('Lasso')\n",
    "\n",
    "sns.heatmap(model_conf, annot=True, fmt='g', cmap='coolwarm', cbar=False, ax=axis[1,2],\n",
    "            xticklabels=['0', '1'],\n",
    "            yticklabels=['0', '1'])\n",
    "\n",
    "axis[1,2].set_xlabel('Predicción')\n",
    "axis[1,2].set_ylabel('Valor Real')\n",
    "axis[1,2].set_title('Model')\n",
    "\n",
    "plt.tight_layout()\n",
    "plt.show()\n",
    "\n"
   ]
  }
 ],
 "metadata": {
  "kernelspec": {
   "display_name": "Python 3",
   "language": "python",
   "name": "python3"
  },
  "language_info": {
   "codemirror_mode": {
    "name": "ipython",
    "version": 3
   },
   "file_extension": ".py",
   "mimetype": "text/x-python",
   "name": "python",
   "nbconvert_exporter": "python",
   "pygments_lexer": "ipython3",
   "version": "3.11.4"
  }
 },
 "nbformat": 4,
 "nbformat_minor": 2
}
